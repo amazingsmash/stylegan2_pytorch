{
  "nbformat": 4,
  "nbformat_minor": 0,
  "metadata": {
    "colab": {
      "name": "thispokemondoesnotexist.ipynb",
      "provenance": [],
      "collapsed_sections": [],
      "toc_visible": true,
      "include_colab_link": true
    },
    "kernelspec": {
      "name": "python3",
      "display_name": "Python 3"
    },
    "accelerator": "GPU"
  },
  "cells": [
    {
      "cell_type": "markdown",
      "metadata": {
        "id": "view-in-github",
        "colab_type": "text"
      },
      "source": [
        "<a href=\"https://colab.research.google.com/github/amazingsmash/stylegan2_pytorch/blob/master/stylegan2.ipynb\" target=\"_parent\"><img src=\"https://colab.research.google.com/assets/colab-badge.svg\" alt=\"Open In Colab\"/></a>"
      ]
    },
    {
      "cell_type": "markdown",
      "metadata": {
        "id": "Hnhn7aT92ON4",
        "colab_type": "text"
      },
      "source": [
        "### Setup"
      ]
    },
    {
      "cell_type": "code",
      "metadata": {
        "id": "ws8BgHmnwNtp",
        "colab_type": "code",
        "outputId": "8b1d53fa-a6db-41ad-eb5b-e723124a0726",
        "colab": {
          "base_uri": "https://localhost:8080/",
          "height": 153
        }
      },
      "source": [
        "#Cloning repo\n",
        "!rm -rf stylegan2_pytorch\n",
        "!git clone https://github.com/amazingsmash/stylegan2_pytorch.git\n",
        "!cd stylegan2_pytorch\n",
        "!git pull"
      ],
      "execution_count": 3,
      "outputs": [
        {
          "output_type": "stream",
          "text": [
            "Cloning into 'stylegan2_pytorch'...\n",
            "remote: Enumerating objects: 1950, done.\u001b[K\n",
            "remote: Counting objects:   0% (1/1950)\u001b[K\rremote: Counting objects:   1% (20/1950)\u001b[K\rremote: Counting objects:   2% (39/1950)\u001b[K\rremote: Counting objects:   3% (59/1950)\u001b[K\rremote: Counting objects:   4% (78/1950)\u001b[K\rremote: Counting objects:   5% (98/1950)\u001b[K\rremote: Counting objects:   6% (117/1950)\u001b[K\rremote: Counting objects:   7% (137/1950)\u001b[K\rremote: Counting objects:   8% (156/1950)\u001b[K\rremote: Counting objects:   9% (176/1950)\u001b[K\rremote: Counting objects:  10% (195/1950)\u001b[K\rremote: Counting objects:  11% (215/1950)\u001b[K\rremote: Counting objects:  12% (234/1950)\u001b[K\rremote: Counting objects:  13% (254/1950)\u001b[K\rremote: Counting objects:  14% (273/1950)\u001b[K\rremote: Counting objects:  15% (293/1950)\u001b[K\rremote: Counting objects:  16% (312/1950)\u001b[K\rremote: Counting objects:  17% (332/1950)\u001b[K\rremote: Counting objects:  18% (351/1950)\u001b[K\rremote: Counting objects:  19% (371/1950)\u001b[K\rremote: Counting objects:  20% (390/1950)\u001b[K\rremote: Counting objects:  21% (410/1950)\u001b[K\rremote: Counting objects:  22% (429/1950)\u001b[K\rremote: Counting objects:  23% (449/1950)\u001b[K\rremote: Counting objects:  24% (468/1950)\u001b[K\rremote: Counting objects:  25% (488/1950)\u001b[K\rremote: Counting objects:  26% (507/1950)\u001b[K\rremote: Counting objects:  27% (527/1950)\u001b[K\rremote: Counting objects:  28% (546/1950)\u001b[K\rremote: Counting objects:  29% (566/1950)\u001b[K\rremote: Counting objects:  30% (585/1950)\u001b[K\rremote: Counting objects:  31% (605/1950)\u001b[K\rremote: Counting objects:  32% (624/1950)\u001b[K\rremote: Counting objects:  33% (644/1950)\u001b[K\rremote: Counting objects:  34% (663/1950)\u001b[K\rremote: Counting objects:  35% (683/1950)\u001b[K\rremote: Counting objects:  36% (702/1950)\u001b[K\rremote: Counting objects:  37% (722/1950)\u001b[K\rremote: Counting objects:  38% (741/1950)\u001b[K\rremote: Counting objects:  39% (761/1950)\u001b[K\rremote: Counting objects:  40% (780/1950)\u001b[K\rremote: Counting objects:  41% (800/1950)\u001b[K\rremote: Counting objects:  42% (819/1950)\u001b[K\rremote: Counting objects:  43% (839/1950)\u001b[K\rremote: Counting objects:  44% (858/1950)\u001b[K\rremote: Counting objects:  45% (878/1950)\u001b[K\rremote: Counting objects:  46% (897/1950)\u001b[K\rremote: Counting objects:  47% (917/1950)\u001b[K\rremote: Counting objects:  48% (936/1950)\u001b[K\rremote: Counting objects:  49% (956/1950)\u001b[K\rremote: Counting objects:  50% (975/1950)\u001b[K\rremote: Counting objects:  51% (995/1950)\u001b[K\rremote: Counting objects:  52% (1014/1950)\u001b[K\rremote: Counting objects:  53% (1034/1950)\u001b[K\rremote: Counting objects:  54% (1053/1950)\u001b[K\rremote: Counting objects:  55% (1073/1950)\u001b[K\rremote: Counting objects:  56% (1092/1950)\u001b[K\rremote: Counting objects:  57% (1112/1950)\u001b[K\rremote: Counting objects:  58% (1131/1950)\u001b[K\rremote: Counting objects:  59% (1151/1950)\u001b[K\rremote: Counting objects:  60% (1170/1950)\u001b[K\rremote: Counting objects:  61% (1190/1950)\u001b[K\rremote: Counting objects:  62% (1209/1950)\u001b[K\rremote: Counting objects:  63% (1229/1950)\u001b[K\rremote: Counting objects:  64% (1248/1950)\u001b[K\rremote: Counting objects:  65% (1268/1950)\u001b[K\rremote: Counting objects:  66% (1287/1950)\u001b[K\rremote: Counting objects:  67% (1307/1950)\u001b[K\rremote: Counting objects:  68% (1326/1950)\u001b[K\rremote: Counting objects:  69% (1346/1950)\u001b[K\rremote: Counting objects:  70% (1365/1950)\u001b[K\rremote: Counting objects:  71% (1385/1950)\u001b[K\rremote: Counting objects:  72% (1404/1950)\u001b[K\rremote: Counting objects:  73% (1424/1950)\u001b[K\rremote: Counting objects:  74% (1443/1950)\u001b[K\rremote: Counting objects:  75% (1463/1950)\u001b[K\rremote: Counting objects:  76% (1482/1950)\u001b[K\rremote: Counting objects:  77% (1502/1950)\u001b[K\rremote: Counting objects:  78% (1521/1950)\u001b[K\rremote: Counting objects:  79% (1541/1950)\u001b[K\rremote: Counting objects:  80% (1560/1950)\u001b[K\rremote: Counting objects:  81% (1580/1950)\u001b[K\rremote: Counting objects:  82% (1599/1950)\u001b[K\rremote: Counting objects:  83% (1619/1950)\u001b[K\rremote: Counting objects:  84% (1638/1950)\u001b[K\rremote: Counting objects:  85% (1658/1950)\u001b[K\rremote: Counting objects:  86% (1677/1950)\u001b[K\rremote: Counting objects:  87% (1697/1950)\u001b[K\rremote: Counting objects:  88% (1716/1950)\u001b[K\rremote: Counting objects:  89% (1736/1950)\u001b[K\rremote: Counting objects:  90% (1755/1950)\u001b[K\rremote: Counting objects:  91% (1775/1950)\u001b[K\rremote: Counting objects:  92% (1794/1950)\u001b[K\rremote: Counting objects:  93% (1814/1950)\u001b[K\rremote: Counting objects:  94% (1833/1950)\u001b[K\rremote: Counting objects:  95% (1853/1950)\u001b[K\rremote: Counting objects:  96% (1872/1950)\u001b[K\rremote: Counting objects:  97% (1892/1950)\u001b[K\rremote: Counting objects:  98% (1911/1950)\u001b[K\rremote: Counting objects:  99% (1931/1950)\u001b[K\rremote: Counting objects: 100% (1950/1950)\u001b[K\rremote: Counting objects: 100% (1950/1950), done.\u001b[K\n",
            "remote: Compressing objects: 100% (1941/1941), done.\u001b[K\n",
            "remote: Total 1950 (delta 12), reused 1939 (delta 7), pack-reused 0\u001b[K\n",
            "Receiving objects: 100% (1950/1950), 41.40 MiB | 26.14 MiB/s, done.\n",
            "Resolving deltas: 100% (12/12), done.\n",
            "fatal: not a git repository (or any of the parent directories): .git\n"
          ],
          "name": "stdout"
        }
      ]
    },
    {
      "cell_type": "code",
      "metadata": {
        "id": "NGcIZ8ofcGnE",
        "colab_type": "code",
        "outputId": "f582dac2-8425-4af4-b1df-0d1a0bcf26db",
        "colab": {
          "base_uri": "https://localhost:8080/",
          "height": 224
        }
      },
      "source": [
        "# memory footprint support libraries/code\n",
        "!ln -sf /opt/bin/nvidia-smi /usr/bin/nvidia-smi\n",
        "!pip install gputil\n",
        "!pip install psutil\n",
        "!pip install humanize"
      ],
      "execution_count": 0,
      "outputs": [
        {
          "output_type": "stream",
          "text": [
            "Collecting gputil\n",
            "  Downloading https://files.pythonhosted.org/packages/ed/0e/5c61eedde9f6c87713e89d794f01e378cfd9565847d4576fa627d758c554/GPUtil-1.4.0.tar.gz\n",
            "Building wheels for collected packages: gputil\n",
            "  Building wheel for gputil (setup.py) ... \u001b[?25l\u001b[?25hdone\n",
            "  Created wheel for gputil: filename=GPUtil-1.4.0-cp36-none-any.whl size=7413 sha256=e321aec62836c95f8b5e40eabe6bf469d0dfa38fd3b78456efe492f26388feb0\n",
            "  Stored in directory: /root/.cache/pip/wheels/3d/77/07/80562de4bb0786e5ea186911a2c831fdd0018bda69beab71fd\n",
            "Successfully built gputil\n",
            "Installing collected packages: gputil\n",
            "Successfully installed gputil-1.4.0\n",
            "Requirement already satisfied: psutil in /usr/local/lib/python3.6/dist-packages (5.4.8)\n",
            "Requirement already satisfied: humanize in /usr/local/lib/python3.6/dist-packages (0.5.1)\n"
          ],
          "name": "stdout"
        }
      ]
    },
    {
      "cell_type": "code",
      "metadata": {
        "id": "pxZ3cN-0cZwp",
        "colab_type": "code",
        "outputId": "9d7166c6-399f-4dfa-957d-d6845cf1783c",
        "colab": {
          "base_uri": "https://localhost:8080/",
          "height": 68
        }
      },
      "source": [
        "import psutil\n",
        "import humanize\n",
        "import os\n",
        "import GPUtil as GPU\n",
        "GPUs = GPU.getGPUs()\n",
        "# XXX: only one GPU on Colab and isn’t guaranteed\n",
        "print(GPUs)\n",
        "gpu = GPUs[0]\n",
        "def printm():\n",
        " process = psutil.Process(os.getpid())\n",
        " print(\"Gen RAM Free: \" + humanize.naturalsize( psutil.virtual_memory().available ), \" | Proc size: \" + humanize.naturalsize( process.memory_info().rss))\n",
        " print(\"GPU RAM Free: {0:.0f}MB | Used: {1:.0f}MB | Util {2:3.0f}% | Total {3:.0f}MB\".format(gpu.memoryFree, gpu.memoryUsed, gpu.memoryUtil*100, gpu.memoryTotal))\n",
        "printm()"
      ],
      "execution_count": 0,
      "outputs": [
        {
          "output_type": "stream",
          "text": [
            "[<GPUtil.GPUtil.GPU object at 0x7f8ed9350470>]\n",
            "Gen RAM Free: 12.7 GB  | Proc size: 158.4 MB\n",
            "GPU RAM Free: 15079MB | Used: 0MB | Util   0% | Total 15079MB\n"
          ],
          "name": "stdout"
        }
      ]
    },
    {
      "cell_type": "code",
      "metadata": {
        "id": "4Skc_xs1f4Gp",
        "colab_type": "code",
        "outputId": "556f59cc-8bf8-4635-f7e9-a5eee8206f66",
        "colab": {
          "base_uri": "https://localhost:8080/",
          "height": 530
        }
      },
      "source": [
        "!pip uninstall stylegan2_pytorch\n",
        "!pip install stylegan2_pytorch"
      ],
      "execution_count": 0,
      "outputs": [
        {
          "output_type": "stream",
          "text": [
            "\u001b[33mWARNING: Skipping stylegan2-pytorch as it is not installed.\u001b[0m\n",
            "Collecting stylegan2_pytorch\n",
            "  Downloading https://files.pythonhosted.org/packages/a5/33/d8fc27188f845b27ab008812c03db0c5ce5bc7402bfa13e2085c1928aeb0/stylegan2_pytorch-0.4.21.tar.gz\n",
            "Collecting fire\n",
            "\u001b[?25l  Downloading https://files.pythonhosted.org/packages/fa/42/6252075cbad90b9efb27b6586827779758c62fd73868a1cd0d23ebb5aac6/fire-0.3.0.tar.gz (81kB)\n",
            "\u001b[K     |████████████████████████████████| 81kB 5.9MB/s \n",
            "\u001b[?25hRequirement already satisfied: numpy in /usr/local/lib/python3.6/dist-packages (from stylegan2_pytorch) (1.18.2)\n",
            "Collecting retry\n",
            "  Downloading https://files.pythonhosted.org/packages/4b/0d/53aea75710af4528a25ed6837d71d117602b01946b307a3912cb3cfcbcba/retry-0.9.2-py2.py3-none-any.whl\n",
            "Requirement already satisfied: tqdm in /usr/local/lib/python3.6/dist-packages (from stylegan2_pytorch) (4.38.0)\n",
            "Requirement already satisfied: torch in /usr/local/lib/python3.6/dist-packages (from stylegan2_pytorch) (1.4.0)\n",
            "Requirement already satisfied: torchvision in /usr/local/lib/python3.6/dist-packages (from stylegan2_pytorch) (0.5.0)\n",
            "Requirement already satisfied: pillow in /usr/local/lib/python3.6/dist-packages (from stylegan2_pytorch) (7.0.0)\n",
            "Collecting torch_optimizer\n",
            "  Downloading https://files.pythonhosted.org/packages/d7/c8/62c4c2c350b0993dc88eef34ba5548983f4f6367f2e441727a0f60ab91cf/torch_optimizer-0.0.1a10-py3-none-any.whl\n",
            "Requirement already satisfied: six in /usr/local/lib/python3.6/dist-packages (from fire->stylegan2_pytorch) (1.12.0)\n",
            "Requirement already satisfied: termcolor in /usr/local/lib/python3.6/dist-packages (from fire->stylegan2_pytorch) (1.1.0)\n",
            "Requirement already satisfied: py<2.0.0,>=1.4.26 in /usr/local/lib/python3.6/dist-packages (from retry->stylegan2_pytorch) (1.8.1)\n",
            "Requirement already satisfied: decorator>=3.4.2 in /usr/local/lib/python3.6/dist-packages (from retry->stylegan2_pytorch) (4.4.2)\n",
            "Building wheels for collected packages: stylegan2-pytorch, fire\n",
            "  Building wheel for stylegan2-pytorch (setup.py) ... \u001b[?25l\u001b[?25hdone\n",
            "  Created wheel for stylegan2-pytorch: filename=stylegan2_pytorch-0.4.21-cp36-none-any.whl size=8803 sha256=d8fd76d75c4cf46901b1d6d3fa4755a02a4e755a2ceb800403ac34cf43cee27f\n",
            "  Stored in directory: /root/.cache/pip/wheels/f9/69/81/78216c81f25d642908db779beab303fd7046baadbc79291223\n",
            "  Building wheel for fire (setup.py) ... \u001b[?25l\u001b[?25hdone\n",
            "  Created wheel for fire: filename=fire-0.3.0-py2.py3-none-any.whl size=111108 sha256=e77c7432e7f3a1e90a6f8d4d17546614241a288805ceba1a67ad91dc4deaafa3\n",
            "  Stored in directory: /root/.cache/pip/wheels/92/62/79/6a40acd827ec9d78d610be311820ecf8e41db024d8b1d12ace\n",
            "Successfully built stylegan2-pytorch fire\n",
            "Installing collected packages: fire, retry, torch-optimizer, stylegan2-pytorch\n",
            "Successfully installed fire-0.3.0 retry-0.9.2 stylegan2-pytorch-0.4.21 torch-optimizer-0.0.1a10\n"
          ],
          "name": "stdout"
        }
      ]
    },
    {
      "cell_type": "markdown",
      "metadata": {
        "id": "QyzHZwoJ2cei",
        "colab_type": "text"
      },
      "source": [
        "###Preparing data"
      ]
    },
    {
      "cell_type": "code",
      "metadata": {
        "id": "Qkd6GZrVTlDf",
        "colab_type": "code",
        "colab": {}
      },
      "source": [
        "#Processing images to conform input size\n",
        "\n",
        "import os\n",
        "import cv2\n",
        "\n",
        "dir =\"pokemon/raw_images\"\n",
        "dir_out = \"pokemon/images_processed\"\n",
        "os.makedirs(dir_out, exist_ok=True)\n",
        "files = os.listdir(dir)\n",
        "\n",
        "for f in files:\n",
        "  path = dir + \"/\" + f\n",
        "\n",
        "  img = cv2.imread(path, cv2.IMREAD_UNCHANGED)\n",
        "  if img.shape[2] == 4:\n",
        "    #make mask of where the transparent bits are\n",
        "    trans_mask = img[:,:,3] == 0\n",
        "    #replace areas of transparency with white and not transparent\n",
        "    img[trans_mask] = [255, 255, 255, 255]\n",
        "\n",
        "  name = f.split(\".\")[0]\n",
        "  path_out = dir_out + name + \".jpg\"\n",
        "  cv2.imwrite(path_out, img)"
      ],
      "execution_count": 0,
      "outputs": []
    },
    {
      "cell_type": "markdown",
      "metadata": {
        "id": "TtffmR7u2gd5",
        "colab_type": "text"
      },
      "source": [
        "###Training"
      ]
    },
    {
      "cell_type": "code",
      "metadata": {
        "colab_type": "code",
        "outputId": "7a1b7020-70b8-4a63-8d7f-9f067f1a60f8",
        "id": "eFnMK18Hntk5",
        "colab": {
          "base_uri": "https://localhost:8080/",
          "height": 1000
        }
      },
      "source": [
        "#Training (checkpoints stored at monster)\n",
        "#Run as many times as neccesary. The model picks it up from the last stored checkpoint \n",
        "!stylegan2_pytorch --image-size 128 --data pokemon/images_processed --results-dir pokemon/results --models-dir pokemon/models --name monster"
      ],
      "execution_count": 0,
      "outputs": [
        {
          "output_type": "stream",
          "text": [
            "  0% 0/100000 [00:00<?, ?it/s]G: -790.64 | D: 671.62 | GP: 116.19 | PL: 0.20\n",
            "  0% 39/100000 [00:30<22:52:44,  1.21it/s]G: 640.58 | D: 345.12 | GP: 63.95 | PL: 0.30\n",
            "  0% 96/100000 [01:11<20:33:05,  1.35it/s]G: 296.66 | D: 4.54 | GP: 52.28 | PL: 0.48\n",
            "  0% 139/100000 [01:44<20:44:56,  1.34it/s]G: 160.65 | D: 1.66 | GP: 56.72 | PL: 0.56\n",
            "  0% 195/100000 [02:25<20:27:59,  1.35it/s]G: 128.58 | D: 1.42 | GP: 42.32 | PL: 0.64\n",
            "  0% 237/100000 [02:57<20:53:13,  1.33it/s]G: 163.19 | D: 0.30 | GP: 50.35 | PL: 0.66\n",
            "  0% 293/100000 [03:38<20:37:45,  1.34it/s]G: -11.44 | D: 1.26 | GP: 34.97 | PL: 0.75\n",
            "  0% 349/100000 [04:20<20:34:25,  1.35it/s]G: 131.60 | D: 13.31 | GP: 26.55 | PL: 0.79\n",
            "  0% 391/100000 [04:52<20:30:15,  1.35it/s]G: 34.39 | D: 0.00 | GP: 23.70 | PL: 0.81\n",
            "  0% 447/100000 [05:34<20:26:59,  1.35it/s]G: 27.69 | D: 0.00 | GP: 54.04 | PL: 0.83\n",
            "  0% 489/100000 [06:05<20:33:19,  1.34it/s]G: 159.52 | D: 28.78 | GP: 37.56 | PL: 0.85\n",
            "  1% 545/100000 [06:49<20:59:53,  1.32it/s]G: 318.49 | D: 46.30 | GP: 20.79 | PL: 0.86\n",
            "  1% 587/100000 [07:30<20:27:43,  1.35it/s]G: 13.70 | D: 1.65 | GP: 74.62 | PL: 0.86\n",
            "  1% 643/100000 [08:02<20:40:11,  1.34it/s]G: 27.92 | D: 0.42 | GP: 14.92 | PL: 0.86\n",
            "  1% 687/100000 [08:34<20:22:12,  1.35it/s]G: 26.95 | D: 1.16 | GP: 20.40 | PL: 0.87\n",
            "  1% 743/100000 [09:17<20:33:58,  1.34it/s]G: 125.85 | D: 20.95 | GP: 18.42 | PL: 0.88\n",
            "  1% 799/100000 [09:58<20:10:58,  1.37it/s]G: 58.85 | D: 43.42 | GP: 28.06 | PL: 0.87\n",
            "  1% 843/100000 [10:31<20:37:39,  1.34it/s]G: 57.11 | D: 4.27 | GP: 37.76 | PL: 0.87\n",
            "  1% 899/100000 [11:12<20:20:18,  1.35it/s]G: 16.10 | D: 0.15 | GP: 11.20 | PL: 0.88\n",
            "  1% 941/100000 [11:45<20:50:21,  1.32it/s]G: 20.10 | D: 4.10 | GP: 9.57 | PL: 0.89\n",
            "  1% 997/100000 [12:26<20:32:07,  1.34it/s]G: 2.26 | D: 0.32 | GP: 4.76 | PL: 0.89\n",
            "  1% 1039/100000 [12:59<20:54:39,  1.31it/s]G: 19.52 | D: 5.20 | GP: 20.90 | PL: 0.89\n",
            "  1% 1095/100000 [13:41<20:26:19,  1.34it/s]G: 10.54 | D: 0.01 | GP: 4.73 | PL: 0.88\n",
            "  1% 1137/100000 [14:13<20:39:04,  1.33it/s]G: 14.28 | D: 5.23 | GP: 7.15 | PL: 0.88\n",
            "  1% 1193/100000 [14:54<20:23:29,  1.35it/s]G: 9.67 | D: 8.07 | GP: 15.37 | PL: 0.88\n",
            "  1% 1249/100000 [15:37<20:36:56,  1.33it/s]G: 6.93 | D: 2.29 | GP: 0.21 | PL: 0.89\n",
            "  1% 1291/100000 [16:07<20:17:06,  1.35it/s]G: 6.25 | D: 4.51 | GP: 0.99 | PL: 0.89\n",
            "  1% 1347/100000 [16:50<20:33:53,  1.33it/s]G: 7.07 | D: 5.43 | GP: 0.52 | PL: 0.87\n",
            "  1% 1389/100000 [17:21<20:21:37,  1.35it/s]G: 7.58 | D: 3.37 | GP: 2.60 | PL: 0.87\n",
            "  1% 1447/100000 [18:05<20:27:57,  1.34it/s]G: 10.93 | D: 3.91 | GP: 0.00 | PL: 0.86\n",
            "  1% 1489/100000 [18:36<20:19:48,  1.35it/s]G: 9.51 | D: 4.08 | GP: 2.04 | PL: 0.86\n",
            "  2% 1545/100000 [19:20<20:42:28,  1.32it/s]G: 8.31 | D: 4.53 | GP: 2.56 | PL: 0.85\n",
            "  2% 1587/100000 [19:50<20:13:49,  1.35it/s]G: 3.33 | D: 4.52 | GP: 0.58 | PL: 0.85\n",
            "  2% 1643/100000 [20:33<20:22:32,  1.34it/s]G: 1.65 | D: 12.36 | GP: 0.08 | PL: 0.84\n",
            "  2% 1699/100000 [21:14<20:10:41,  1.35it/s]G: -4.25 | D: 4.15 | GP: 0.00 | PL: 0.83\n",
            "  2% 1741/100000 [21:47<20:40:23,  1.32it/s]G: 0.94 | D: 3.89 | GP: 0.00 | PL: 0.83\n",
            "  2% 1797/100000 [22:28<20:28:14,  1.33it/s]G: 5.16 | D: 7.56 | GP: 0.73 | PL: 0.83\n",
            "  2% 1839/100000 [23:01<20:37:45,  1.32it/s]G: -0.20 | D: 0.68 | GP: 0.00 | PL: 0.83\n",
            "  2% 1895/100000 [23:42<20:26:34,  1.33it/s]G: 5.42 | D: 3.00 | GP: 0.59 | PL: 0.83\n",
            "  2% 1937/100000 [24:15<20:45:57,  1.31it/s]G: 11.93 | D: 6.67 | GP: 0.00 | PL: 0.82\n",
            "  2% 1993/100000 [24:57<20:29:39,  1.33it/s]G: 4.90 | D: 2.02 | GP: 0.00 | PL: 0.81\n",
            "  2% 2049/100000 [25:41<20:54:00,  1.30it/s]G: 5.89 | D: 3.65 | GP: 0.00 | PL: 0.80\n",
            "  2% 2091/100000 [26:12<20:22:55,  1.33it/s]G: 4.71 | D: 1.61 | GP: 0.00 | PL: 0.81\n",
            "  2% 2147/100000 [26:55<20:23:45,  1.33it/s]G: 3.19 | D: 2.65 | GP: 0.00 | PL: 0.80\n",
            "  2% 2189/100000 [27:25<20:10:08,  1.35it/s]G: 4.91 | D: 3.93 | GP: 0.66 | PL: 0.80\n",
            "  2% 2247/100000 [28:09<20:17:01,  1.34it/s]G: 2.85 | D: 1.58 | GP: 0.00 | PL: 0.80\n",
            "  2% 2289/100000 [28:40<20:03:30,  1.35it/s]G: 9.01 | D: 2.31 | GP: 0.00 | PL: 0.80\n",
            "  2% 2347/100000 [29:24<20:13:01,  1.34it/s]G: 8.19 | D: 2.40 | GP: 0.00 | PL: 0.79\n",
            "  2% 2389/100000 [29:55<20:00:49,  1.35it/s]G: 2.15 | D: 2.57 | GP: 0.00 | PL: 0.80\n",
            "  2% 2445/100000 [30:37<20:13:27,  1.34it/s]G: 0.55 | D: 2.46 | GP: 0.36 | PL: 0.80\n",
            "  2% 2487/100000 [31:08<19:54:47,  1.36it/s]G: 7.42 | D: 1.38 | GP: 0.00 | PL: 0.79\n",
            "  3% 2544/100000 [31:51<20:01:01,  1.35it/s]G: 1.52 | D: 3.33 | GP: 0.00 | PL: 0.80\n",
            "  3% 2587/100000 [32:22<19:52:21,  1.36it/s]G: 2.39 | D: 1.74 | GP: 2.93 | PL: 0.79\n",
            "  3% 2643/100000 [33:03<19:51:10,  1.36it/s]G: 0.93 | D: 2.58 | GP: 0.00 | PL: 0.79\n",
            "  3% 2687/100000 [33:36<19:42:27,  1.37it/s]G: 2.21 | D: 4.71 | GP: 0.41 | PL: 0.78\n",
            "  3% 2744/100000 [34:17<19:46:00,  1.37it/s]G: 2.80 | D: 4.91 | GP: 0.00 | PL: 0.78\n",
            "  3% 2787/100000 [34:49<19:50:22,  1.36it/s]G: -0.46 | D: 2.10 | GP: 0.00 | PL: 0.77\n",
            "  3% 2844/100000 [35:31<19:38:36,  1.37it/s]G: 1.38 | D: 1.25 | GP: 0.00 | PL: 0.78\n",
            "  3% 2887/100000 [36:03<19:49:50,  1.36it/s]G: 4.00 | D: 0.93 | GP: 0.00 | PL: 0.78\n",
            "  3% 2943/100000 [36:43<19:38:36,  1.37it/s]G: 1.23 | D: 0.50 | GP: 0.00 | PL: 0.78\n",
            "  3% 3000/100000 [37:25<19:38:29,  1.37it/s]G: 0.15 | D: 5.95 | GP: 0.00 | PL: 0.78\n",
            "  3% 3043/100000 [37:59<20:21:31,  1.32it/s]G: 4.96 | D: 1.94 | GP: 0.00 | PL: 0.78\n",
            "  3% 3099/100000 [38:40<19:46:58,  1.36it/s]G: 0.84 | D: 1.72 | GP: 1.19 | PL: 0.78\n",
            "  3% 3141/100000 [39:11<19:55:10,  1.35it/s]G: 2.43 | D: 3.60 | GP: 0.11 | PL: 0.80\n",
            "  3% 3197/100000 [39:52<19:41:28,  1.37it/s]G: 0.83 | D: 1.26 | GP: 0.00 | PL: 0.79\n",
            "  3% 3239/100000 [40:23<19:45:39,  1.36it/s]G: 2.62 | D: 1.68 | GP: 0.00 | PL: 0.79\n",
            "  3% 3295/100000 [41:04<19:36:01,  1.37it/s]G: 2.18 | D: 1.13 | GP: 0.00 | PL: 0.78\n",
            "  3% 3339/100000 [41:36<19:44:36,  1.36it/s]G: 3.11 | D: 4.85 | GP: 0.00 | PL: 0.78\n",
            "  3% 3395/100000 [42:17<19:44:56,  1.36it/s]G: 0.85 | D: 1.60 | GP: 0.00 | PL: 0.78\n",
            "  3% 3439/100000 [42:50<19:41:25,  1.36it/s]G: -0.19 | D: 4.67 | GP: 0.00 | PL: 0.78\n",
            "  3% 3495/100000 [43:31<19:41:52,  1.36it/s]G: 2.01 | D: 1.52 | GP: 0.00 | PL: 0.78\n",
            "  4% 3537/100000 [44:03<19:58:07,  1.34it/s]G: 2.79 | D: 3.37 | GP: 0.00 | PL: 0.79\n",
            "  4% 3595/100000 [44:45<19:44:32,  1.36it/s]G: 3.13 | D: 1.93 | GP: 0.00 | PL: 0.78\n",
            "  4% 3637/100000 [45:16<19:40:12,  1.36it/s]G: 2.72 | D: 1.14 | GP: 0.00 | PL: 0.77\n",
            "  4% 3693/100000 [45:57<19:42:21,  1.36it/s]G: 2.98 | D: 2.01 | GP: 0.00 | PL: 0.77\n",
            "  4% 3736/100000 [46:28<19:30:58,  1.37it/s]G: 2.34 | D: 2.36 | GP: 0.00 | PL: 0.77\n",
            "  4% 3793/100000 [47:10<19:38:03,  1.36it/s]G: 1.12 | D: 2.85 | GP: 0.00 | PL: 0.76\n",
            "  4% 3837/100000 [47:43<19:35:53,  1.36it/s]G: 0.75 | D: 2.00 | GP: 0.00 | PL: 0.77\n",
            "  4% 3893/100000 [48:24<19:34:28,  1.36it/s]G: 2.99 | D: 1.01 | GP: 0.00 | PL: 0.76\n",
            "  4% 3949/100000 [49:05<19:37:39,  1.36it/s]G: 1.02 | D: 1.28 | GP: 0.00 | PL: 0.76\n",
            "  4% 3993/100000 [49:37<19:35:25,  1.36it/s]G: 1.34 | D: 1.62 | GP: 0.00 | PL: 0.76\n",
            "  4% 4049/100000 [50:20<19:58:59,  1.33it/s]G: 2.96 | D: 1.94 | GP: 0.00 | PL: 0.75\n",
            "  4% 4093/100000 [50:52<19:39:54,  1.35it/s]G: 3.33 | D: 1.41 | GP: 0.00 | PL: 0.76\n",
            "  4% 4149/100000 [51:33<19:35:39,  1.36it/s]G: 0.73 | D: 2.82 | GP: 0.00 | PL: 0.78\n",
            "  4% 4191/100000 [52:04<19:23:01,  1.37it/s]G: 2.27 | D: 2.20 | GP: 0.00 | PL: 0.77\n",
            "  4% 4249/100000 [52:47<19:30:03,  1.36it/s]G: 2.10 | D: 1.77 | GP: 0.00 | PL: 0.79\n",
            "  4% 4291/100000 [53:17<19:30:45,  1.36it/s]G: 0.36 | D: 2.45 | GP: 0.00 | PL: 0.78\n",
            "  4% 4348/100000 [53:59<19:19:45,  1.37it/s]G: 1.47 | D: 2.45 | GP: 0.00 | PL: 0.77\n",
            "  4% 4391/100000 [54:31<19:28:26,  1.36it/s]G: 3.22 | D: 1.37 | GP: 0.00 | PL: 0.77\n",
            "  4% 4448/100000 [55:12<19:18:10,  1.38it/s]G: 3.20 | D: 1.12 | GP: 0.00 | PL: 0.76\n",
            "  4% 4491/100000 [55:44<19:29:14,  1.36it/s]G: 1.30 | D: 0.60 | GP: 0.00 | PL: 0.76\n",
            "  5% 4547/100000 [56:26<19:39:28,  1.35it/s]G: 3.25 | D: 2.22 | GP: 0.00 | PL: 0.76\n",
            "  5% 4589/100000 [56:57<19:34:13,  1.35it/s]G: 4.42 | D: 1.91 | GP: 0.00 | PL: 0.76\n",
            "  5% 4645/100000 [57:38<19:34:52,  1.35it/s]G: 0.12 | D: 1.70 | GP: 0.00 | PL: 0.76\n",
            "  5% 4687/100000 [58:09<19:23:07,  1.37it/s]G: 4.24 | D: 1.41 | GP: 0.00 | PL: 0.76\n",
            "  5% 4743/100000 [58:50<19:26:03,  1.36it/s]G: 0.22 | D: 1.15 | GP: 0.00 | PL: 0.76\n",
            "  5% 4799/100000 [59:31<19:16:18,  1.37it/s]G: 2.36 | D: 1.12 | GP: 0.30 | PL: 0.76\n",
            "  5% 4841/100000 [1:00:02<19:28:57,  1.36it/s]G: 2.90 | D: 1.75 | GP: 0.00 | PL: 0.76\n",
            "  5% 4899/100000 [1:00:44<19:28:51,  1.36it/s]G: 0.93 | D: 1.53 | GP: 0.00 | PL: 0.76\n",
            "  5% 4941/100000 [1:01:15<19:27:05,  1.36it/s]G: 4.73 | D: 2.10 | GP: 0.00 | PL: 0.75\n",
            "  5% 4997/100000 [1:01:56<19:28:34,  1.35it/s]G: 4.25 | D: 2.97 | GP: 0.00 | PL: 0.75\n",
            "  5% 5040/100000 [1:02:30<19:52:58,  1.33it/s]G: 3.87 | D: 0.94 | GP: 0.00 | PL: 0.75\n",
            "  5% 5099/100000 [1:03:13<19:31:34,  1.35it/s]G: 4.30 | D: 1.25 | GP: 0.00 | PL: 0.75\n",
            "  5% 5141/100000 [1:03:44<19:26:25,  1.36it/s]G: 1.77 | D: 1.27 | GP: 0.00 | PL: 0.75\n",
            "  5% 5197/100000 [1:04:25<19:25:57,  1.36it/s]G: 2.71 | D: 1.75 | GP: 0.00 | PL: 0.74\n",
            "  5% 5239/100000 [1:04:56<19:16:58,  1.37it/s]G: 1.69 | D: 1.53 | GP: 0.00 | PL: 0.75\n",
            "  5% 5295/100000 [1:05:37<19:16:47,  1.36it/s]G: 1.41 | D: 1.49 | GP: 0.00 | PL: 0.74\n",
            "  5% 5337/100000 [1:06:08<19:18:06,  1.36it/s]G: 0.72 | D: 1.27 | GP: 0.00 | PL: 0.75\n",
            "  5% 5393/100000 [1:06:49<19:19:26,  1.36it/s]G: 2.70 | D: 2.78 | GP: 0.00 | PL: 0.74\n",
            "  5% 5449/100000 [1:07:31<19:23:26,  1.35it/s]G: 0.86 | D: 1.40 | GP: 0.00 | PL: 0.74\n",
            "  5% 5491/100000 [1:08:01<19:12:03,  1.37it/s]G: 0.28 | D: 2.88 | GP: 0.00 | PL: 0.74\n",
            "  6% 5547/100000 [1:08:43<19:27:57,  1.35it/s]G: 2.91 | D: 1.00 | GP: 0.00 | PL: 0.74\n",
            "  6% 5589/100000 [1:09:14<19:19:35,  1.36it/s]G: 1.29 | D: 1.74 | GP: 0.00 | PL: 0.73\n",
            "  6% 5645/100000 [1:09:55<19:20:19,  1.36it/s]G: -0.01 | D: 1.16 | GP: 0.00 | PL: 0.73\n",
            "  6% 5687/100000 [1:10:26<19:12:03,  1.36it/s]G: 1.06 | D: 1.21 | GP: 0.00 | PL: 0.73\n",
            "  6% 5743/100000 [1:11:07<19:11:20,  1.36it/s]G: 3.15 | D: 0.47 | GP: 0.00 | PL: 0.72\n",
            "  6% 5799/100000 [1:11:49<19:15:57,  1.36it/s]G: 0.73 | D: 1.46 | GP: 0.00 | PL: 0.72\n",
            "  6% 5841/100000 [1:12:19<19:12:02,  1.36it/s]G: 1.20 | D: 1.23 | GP: 0.00 | PL: 0.71\n",
            "  6% 5855/100000 [1:12:29<19:02:57,  1.37it/s]"
          ],
          "name": "stdout"
        }
      ]
    },
    {
      "cell_type": "markdown",
      "metadata": {
        "id": "Lf28XwlX2jIS",
        "colab_type": "text"
      },
      "source": [
        "###Generating"
      ]
    },
    {
      "cell_type": "code",
      "metadata": {
        "id": "RnKQX9w_ZwhZ",
        "colab_type": "code",
        "outputId": "f9c3e9f2-c61a-494b-cbee-75110a1939a4",
        "colab": {
          "base_uri": "https://localhost:8080/",
          "height": 34
        }
      },
      "source": [
        "#Generating 1 image\n",
        "!stylegan2_pytorch --generate --image-size 128 --batch-size 1 --models-dir drive/My\\ Drive/models --name monster --load-from 7"
      ],
      "execution_count": 0,
      "outputs": [
        {
          "output_type": "stream",
          "text": [
            "sample images generated at ./results/monster/generated-04-04-2020_23-06-42\n"
          ],
          "name": "stdout"
        }
      ]
    }
  ]
}